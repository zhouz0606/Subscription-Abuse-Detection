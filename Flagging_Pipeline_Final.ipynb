{
 "cells": [
  {
   "cell_type": "markdown",
   "id": "56f79d84",
   "metadata": {
    "ExecuteTime": {
     "end_time": "2022-07-22T20:02:21.161764Z",
     "start_time": "2022-07-22T20:02:21.158477Z"
    }
   },
   "source": [
    "# Import Packages"
   ]
  },
  {
   "cell_type": "code",
   "execution_count": 1,
   "id": "c4eddf0f",
   "metadata": {
    "ExecuteTime": {
     "end_time": "2022-08-12T07:27:31.093797Z",
     "start_time": "2022-08-12T07:27:25.216184Z"
    }
   },
   "outputs": [],
   "source": [
    "import pandas as pd\n",
    "import numpy as np\n",
    "from py2neo import Graph, Node, Relationship\n",
    "from collections import Counter\n",
    "import csv\n",
    "import geopy.distance as gdist\n",
    "import os, sys, json, requests\n",
    "import argparse\n",
    "import jwt\n",
    "from pytz import timezone, utc\n",
    "from datetime import datetime, date\n",
    "from dateutil.relativedelta import relativedelta\n",
    "from dateutil.parser import parse\n",
    "from urllib.parse import urljoin\n",
    "import re\n",
    "from jinja2 import Template\n",
    "from time import time\n",
    "from google.cloud import bigquery\n",
    "from google.cloud import storage\n",
    "import warnings\n",
    "import csv\n",
    "from gensim.models import KeyedVectors\n",
    "from joblib import Parallel, delayed\n",
    "import nodevectors\n",
    "from scipy import spatial\n",
    "from timeit import default_timer as timer\n",
    "from datetime import timedelta\n",
    "import csrgraph as cg\n",
    "warnings.filterwarnings('ignore')\n",
    "# graph=Graph(ip_addr = 'bolt://localhost:7687', username = 'neo4j', password = 'qwerty')\n",
    "import pickle\n",
    "import time"
   ]
  },
  {
   "cell_type": "code",
   "execution_count": 2,
   "id": "82f0a664",
   "metadata": {
    "ExecuteTime": {
     "end_time": "2022-08-12T07:27:34.660284Z",
     "start_time": "2022-08-12T07:27:31.097478Z"
    }
   },
   "outputs": [],
   "source": [
    "client_query = bigquery.Client(project=\"i-dss-cdm-data-dev\")\n",
    "client_storage = storage.Client(project=\"i-dss-cdm-data-dev\")"
   ]
  },
  {
   "cell_type": "markdown",
   "id": "8afea871",
   "metadata": {},
   "source": [
    " # Functions"
   ]
  },
  {
   "cell_type": "markdown",
   "id": "9a281a0c",
   "metadata": {
    "ExecuteTime": {
     "end_time": "2022-07-22T21:26:08.143511Z",
     "start_time": "2022-07-22T21:26:08.133909Z"
    }
   },
   "source": [
    "<b>Function to get list of grouped dataframe of main dataframe</b>"
   ]
  },
  {
   "cell_type": "code",
   "execution_count": 3,
   "id": "546e31f2",
   "metadata": {
    "ExecuteTime": {
     "end_time": "2022-08-12T07:27:34.697038Z",
     "start_time": "2022-08-12T07:27:34.666574Z"
    }
   },
   "outputs": [],
   "source": [
    "def split(df, group):\n",
    "    gb = df.groupby(group)\n",
    "    ls=[]\n",
    "    for x in gb.groups:\n",
    "        try:\n",
    "            ls.append(gb.get_group(x))\n",
    "        except KeyError:\n",
    "            print(\"ping\")\n",
    "            pass\n",
    "    return ls"
   ]
  },
  {
   "cell_type": "markdown",
   "id": "36785d6c",
   "metadata": {},
   "source": [
    "<b>Function to find distance in miles between two geospatial points</b>"
   ]
  },
  {
   "cell_type": "code",
   "execution_count": 4,
   "id": "7653382c",
   "metadata": {
    "ExecuteTime": {
     "end_time": "2022-08-12T07:27:34.720292Z",
     "start_time": "2022-08-12T07:27:34.712235Z"
    }
   },
   "outputs": [],
   "source": [
    "def distance(lat1,lon1,lat2,lon2):\n",
    "    coords_1 = (lat1,lon1)\n",
    "    coords_2 = (lat2,lon2)\n",
    "    return gdist.geodesic(coords_1, coords_2).miles"
   ]
  },
  {
   "cell_type": "markdown",
   "id": "a7204c0f",
   "metadata": {},
   "source": [
    "<b>Function to Fetch Data Using GCS API</b>"
   ]
  },
  {
   "cell_type": "code",
   "execution_count": 5,
   "id": "8f6a0088",
   "metadata": {
    "ExecuteTime": {
     "end_time": "2022-08-12T07:27:34.749643Z",
     "start_time": "2022-08-12T07:27:34.726954Z"
    }
   },
   "outputs": [],
   "source": [
    "def data_fetching(args):\n",
    "    data_sql = open(args['sql_location'], \"r\").read()\n",
    "    data_sql = Template(data_sql).render(**args)   \n",
    "    query_job=client_query.query(data_sql)\n",
    "    print(query_job.result())\n",
    "    print('Query Done start load to bucket')\n",
    "    bucket = client_storage.get_bucket(args['bucket_name'])\n",
    "    blobs = bucket.list_blobs()\n",
    "    filenames=[]\n",
    "    for item in blobs:\n",
    "        if 'sub_abuse/' in item.name and item.name!='sub_abuse/':\n",
    "            filenames.append(\"./data/\"+str(item.name).split('/')[1])\n",
    "            blob=bucket.get_blob(item.name)\n",
    "            print(f'Downloading {item.name}')\n",
    "            blob.download_to_filename(\"./data/\"+str(item.name).split('/')[1])\n",
    "            blob.delete()\n",
    "    main_df=pd.concat([pd.read_csv(fn, compression='gzip')for fn in filenames])\n",
    "    \n",
    "    return main_df"
   ]
  },
  {
   "cell_type": "markdown",
   "id": "8ae55a9a",
   "metadata": {
    "ExecuteTime": {
     "end_time": "2022-07-28T19:12:07.260022Z",
     "start_time": "2022-07-28T19:12:07.235661Z"
    }
   },
   "source": [
    "<b>Function to load dataframes to Neo4j</b>"
   ]
  },
  {
   "cell_type": "code",
   "execution_count": 6,
   "id": "ebf0582f",
   "metadata": {
    "ExecuteTime": {
     "end_time": "2022-08-12T07:27:34.832324Z",
     "start_time": "2022-08-12T07:27:34.756585Z"
    }
   },
   "outputs": [],
   "source": [
    "def load_to_neo4j(graph,df):\n",
    "    ct=\"\"\"CREATE CONSTRAINT ON (d:Device) ASSERT d.mcid IS UNIQUE ;\n",
    "    CREATE CONSTRAINT ON (u:User) ASSERT u.user_id IS UNIQUE ;\n",
    "    CREATE CONSTRAINT ON (v:Video) ASSERT v.mpx_guid IS UNIQUE ;\n",
    "    CREATE INDEX ON :Device(user_id);\n",
    "    CREATE INDEX ON :Device(mc_id)\"\"\"\n",
    "\n",
    "    for line in ct.split(';'):\n",
    "        graph.run(line)\n",
    "        \n",
    "    ls=split(df=df,group=['v69_registration_id_nbr'])\n",
    "\n",
    "    create_user=\"\"\"create (u:User{user_id:{reg_id},sub_package:{sub_package}})\"\"\"\n",
    "\n",
    "    add_device=\"\"\"match (u:User {user_id:{reg_id}}) merge (d:Device{mc_id:{mc_id},device_full_nm:{dnm},mobile_id:{mobile_id},freq_ip:{freq_ip},freq_locn:{home},freq_locn_st:{state},freq_locn_lat:{lat},freq_locn_lon:{lon},percent_home_streams:{percent_home_streams},device_type_nm:{dtype},device_os_nm:{os}})-[b:BELONGS_TO]->(u)\"\"\"\n",
    "\n",
    "    add_show=\"\"\"merge (v:Video {mpx_guid:{guid}})\n",
    "    ON CREATE SET v.video_show_nm={sr_nm},v.video_title={title},v.video_episode_nbr={nbr},v.video_genre_nm={genre},v.VOD={vod}\"\"\"\n",
    "    \n",
    "    add_show_relationship=\"\"\"match (d:Device {mc_id:{mc_id}}) match (v:Video {mpx_guid:{guid}}) merge (d)-[s:STREAMED {stream_start:{stream_st},stream_end:{stream_end},locn:{locn},locn_st:{sta}}]->(v)\"\"\"\n",
    "    \n",
    "    ct=0\n",
    "    for data in ls:\n",
    "        ct=ct+1\n",
    "        print(ct)\n",
    "        reg_id=str(data['v69_registration_id_nbr'].values[0])\n",
    "        pc=data['subscription_package_desc'].values\n",
    "        pc=[x for x in pc if str(x) != 'nan']\n",
    "        if pc==[]:\n",
    "            pc=['nan']\n",
    "        sub_package=pc[0]\n",
    "        graph.run(create_user,{\"reg_id\":reg_id,\"sub_package\":sub_package})\n",
    "        ls1=split(df=data,group=['mc_visitor_id_nbr','post_visitor_id'])\n",
    "        for data1 in ls1:\n",
    "            try:\n",
    "                dc={}\n",
    "                dc['reg_id']=reg_id\n",
    "                dc['mc_id']=str(data1.mc_visitor_id_nbr.values[0])\n",
    "                if str(dc['mc_id'])==\"00000000000000000000000000000000000000\":\n",
    "                    dc['mc_id']=str(data1.post_visitor_id.values[0])\n",
    "                dc['freq_ip']=Counter(data1.post_ip_address_desc.values).most_common(1)[0][0]\n",
    "                dc['home']=Counter(data1.geo_city_nm.values).most_common(1)[0][0]\n",
    "                dc['percent_home_streams']=Counter(data1.geo_city_nm.values)[dc['home']]/len(data1.geo_city_nm.values)*100\n",
    "                dc['state']=str(data1[data1.geo_city_nm==dc['home']].state_code.values[0])\n",
    "                dc['lat']=str(data1[data1.geo_city_nm==dc['home']].int_point_lat.values[0])\n",
    "                dc['lon']=str(data1[data1.geo_city_nm==dc['home']].int_point_lon.values[0])\n",
    "                dc['dtype']=str(data1.device_type_nm.values[0])\n",
    "                dc['mobile_id']=str(data1.mobile_id.values[0])\n",
    "                dc['os']=str(data1.device_os_nm.values[0])\n",
    "                dc['dnm']=str(data1.device_full_nm.values[0])\n",
    "                graph.run(add_device,dc)\n",
    "                shows=data1.video_show_nm.values\n",
    "                titles=data1.video_title.values\n",
    "                eve_st=data1.strm_start_event_dt_ht.values\n",
    "                eve_end=data1.strm_end_event_dt_ht.values\n",
    "                mpx=data1.v31_mpx_reference_guid.values\n",
    "                lcn=data1.geo_city_nm.values\n",
    "                st=data1.state_code.values\n",
    "                nbr=data1.video_episode_nbr.values\n",
    "                genres=data1.video_genre_nm.values\n",
    "                vod=pd.Series(data1.livetv_affiliate_nm.values)\n",
    "                vod=vod.isnull().values\n",
    "                for x in range(len(data1)):\n",
    "                    dc['stream_st']=pd.to_datetime(str(eve_st[x])).strftime('%Y-%m-%d %H:%M:%S')\n",
    "                    dc['stream_end']=pd.to_datetime(str(eve_end[x])).strftime('%Y-%m-%d %H:%M:%S')\n",
    "                    dc['guid']=str(mpx[x])\n",
    "                    dc['locn']=lcn[x]\n",
    "                    dc['sta']=st[x]\n",
    "                    dc['sr_nm']=shows[x]\n",
    "                    dc['title']=titles[x]\n",
    "                    dc['nbr']=str(nbr[x])\n",
    "                    dc['genre']=genres[x]\n",
    "                    dc['vod']=str(vod[x])\n",
    "                    graph.run(add_show,dc)\n",
    "                    graph.run(add_show_relationship,dc)\n",
    "            except Exception as e:\n",
    "                print(ct,e)\n",
    "        "
   ]
  },
  {
   "cell_type": "markdown",
   "id": "c381c718",
   "metadata": {},
   "source": [
    "<b>Function to preprocess,map and aggregate our dataframe</b>"
   ]
  },
  {
   "cell_type": "code",
   "execution_count": 7,
   "id": "6aed8045",
   "metadata": {
    "ExecuteTime": {
     "end_time": "2022-08-12T07:27:34.903618Z",
     "start_time": "2022-08-12T07:27:34.847470Z"
    }
   },
   "outputs": [],
   "source": [
    "# Mapping Func\n",
    "def create_mapping(main_df):\n",
    "    u_id=main_df['v69_registration_id_nbr'].unique().tolist()\n",
    "    mc_id=main_df['mc_visitor_id_nbr'].unique().tolist()\n",
    "    show_id=main_df['v31_mpx_reference_guid'].unique().tolist()\n",
    "    ids=u_id+mc_id+show_id\n",
    "    id_all=[str(i) for i in ids]\n",
    "    t=0\n",
    "    mapping={}\n",
    "    for i in id_all:\n",
    "        mapping[i]=t\n",
    "        t+=1\n",
    "    return mapping"
   ]
  },
  {
   "cell_type": "code",
   "execution_count": 8,
   "id": "29ca3368",
   "metadata": {
    "ExecuteTime": {
     "end_time": "2022-08-12T07:27:34.993507Z",
     "start_time": "2022-08-12T07:27:34.924667Z"
    }
   },
   "outputs": [],
   "source": [
    "#Parallel Preprocessing Func\n",
    "def parallel_preprocessing(data):\n",
    "    u_dev=[]\n",
    "    d_show=[]\n",
    "    pc=data['subscription_package_desc'].values\n",
    "    pc=[x for x in pc if str(x) != 'nan']\n",
    "    if pc==[]:\n",
    "        pc=['nan']\n",
    "    sub_package=pc[0]\n",
    "    ls1=split(df=data,group=['mc_visitor_id_nbr','post_visitor_id'])\n",
    "    for data1 in ls1:\n",
    "            try:\n",
    "                dc={}\n",
    "                dc['reg_id']=str(data1.v69_registration_id_nbr.values[0])\n",
    "                dc['mc_id']=str(data1.mc_visitor_id_nbr.values[0])\n",
    "                dc['freq_ip']=Counter(data1.post_ip_address_desc.values).most_common(1)[0][0]\n",
    "                dc['home']=Counter(data1.geo_city_nm.values).most_common(1)[0][0]\n",
    "                dc['percent_home_streams']=Counter(data1.geo_city_nm.values)[dc['home']]/len(data1.geo_city_nm.values)*100\n",
    "                dc['state']=str(data1[data1.geo_city_nm==dc['home']].state_code.values[0])\n",
    "                dc['lat']=str(data1[data1.geo_city_nm==dc['home']].int_point_lat.values[0])\n",
    "                dc['lon']=str(data1[data1.geo_city_nm==dc['home']].int_point_lon.values[0])\n",
    "                dc['cnt_strms']=len(data1)\n",
    "                dc['dtype']=str(data1.device_type_nm.values[0])\n",
    "                dc['mobile_id']=str(data1.mobile_id.values[0])\n",
    "                dc['os']=str(data1.device_os_nm.values[0])\n",
    "                dc['dnm']=str(data1.device_full_nm.values[0])\n",
    "                reg_id=str(data['v69_registration_id_nbr'].values[0])\n",
    "                shows=data1.video_show_nm.values\n",
    "                titles=data1.video_title.values\n",
    "                eve_st=data1.strm_start_event_dt_ht.values\n",
    "                eve_end=data1.strm_end_event_dt_ht.values\n",
    "                mpx=data1.v31_mpx_reference_guid.values\n",
    "                lcn=data1.geo_city_nm.values\n",
    "                st=data1.state_code.values\n",
    "                nbr=data1.video_episode_nbr.values\n",
    "                genres=data1.video_genre_nm.values\n",
    "                vod=pd.Series(data1.livetv_affiliate_nm.values)\n",
    "                vod=vod.isnull().values\n",
    "                u_dev.append(dc)\n",
    "                mc_id=dc['mc_id']\n",
    "                freq_ip=dc['freq_ip']\n",
    "                hm=dc['home']\n",
    "                dtype=dc['dtype']\n",
    "                for x in range(len(data1)):\n",
    "                    dc={}\n",
    "                    dc['reg_id']=reg_id\n",
    "                    dc['sub_package']=sub_package\n",
    "                    dc['mc_id']=mc_id\n",
    "                    dc['freq_ip']=freq_ip\n",
    "                    dc['freq_locn']=hm\n",
    "                    dc['dtype']=dtype\n",
    "                    dc['stream_st']=pd.to_datetime(str(eve_st[x])).strftime('%Y-%m-%d %H:%M:%S')\n",
    "                    dc['stream_end']=pd.to_datetime(str(eve_end[x])).strftime('%Y-%m-%d %H:%M:%S')\n",
    "                    dc['guid']=str(mpx[x])\n",
    "                    dc['locn']=lcn[x]\n",
    "                    dc['sta']=st[x]\n",
    "                    dc['sr_nm']=shows[x]\n",
    "                    dc['title']=titles[x]\n",
    "                    dc['nbr']=str(nbr[x])\n",
    "                    dc['genre']=genres[x]\n",
    "                    dc['vod']=str(vod[x])\n",
    "                    d_show.append(dc)\n",
    "            except Exception as e:\n",
    "                print(ct,e)\n",
    "    return u_dev,d_show"
   ]
  },
  {
   "cell_type": "code",
   "execution_count": 9,
   "id": "c7c85cc0",
   "metadata": {
    "ExecuteTime": {
     "end_time": "2022-08-12T07:27:35.050972Z",
     "start_time": "2022-08-12T07:27:35.017440Z"
    }
   },
   "outputs": [],
   "source": [
    "# Processing Func\n",
    "def preprocess(main_df): \n",
    "    \n",
    "    print('start the function')\n",
    "    st=timer()\n",
    "    u_dev=[]\n",
    "    d_show=[]\n",
    "    \n",
    "    data=split(df=main_df,group=['v69_registration_id_nbr'])\n",
    "    print('Data Split Done',timedelta(seconds=timer()-st)) \n",
    "    \n",
    "    print('start parallel')\n",
    "    st=timer()\n",
    "    res=Parallel(n_jobs=500,verbose=3,prefer=\"threads\")(delayed(parallel_preprocessing)(data[i]) for i in range(0,len(data)))\n",
    "    print('Parallel Processing',timedelta(seconds=timer()-st)) \n",
    "    \n",
    "\n",
    "    st=timer()\n",
    "    print('start loading')\n",
    "    u_dev=[res[x][0][l] for x in range(0,len(data)) for l in range(0,len(res[x][0]))]\n",
    "    d_show=[res[x][1][l] for x in range(0,len(data)) for l in range(0,len(res[x][1]))]\n",
    "    print('Data Load into list Done',timedelta(seconds=timer()-st)) \n",
    "\n",
    "    st=timer()\n",
    "    print('start saving')\n",
    "    mdf=pd.DataFrame(d_show)\n",
    "    ddf=pd.DataFrame(u_dev)\n",
    "    print('Saving Data Done',timedelta(seconds=timer()-st)) \n",
    "    \n",
    "    st=timer()\n",
    "    print('start Manipulation')\n",
    "    ddf['freq_locn']=ddf['home']\n",
    "    ddf['freq_locn_lat']=ddf['lat']\n",
    "    ddf['freq_locn_lon']=ddf['lon']\n",
    "    del ddf['home'],ddf['lat'],ddf['lon']\n",
    "    print('Manipulate ddf Done',timedelta(seconds=timer()-st))  \n",
    "    \n",
    "    return mdf,ddf \n"
   ]
  },
  {
   "cell_type": "markdown",
   "id": "c465db92",
   "metadata": {},
   "source": [
    "<b>Function to create edge list for our Embeddings algorithm</b>"
   ]
  },
  {
   "cell_type": "code",
   "execution_count": 10,
   "id": "e0e90870",
   "metadata": {
    "ExecuteTime": {
     "end_time": "2022-08-12T07:27:35.082546Z",
     "start_time": "2022-08-12T07:27:35.061434Z"
    }
   },
   "outputs": [],
   "source": [
    "def create_edgelist(mdf,ddf,args,mapping):\n",
    "    with open(\"./emb/\"+args['file_name']+\".csv\", \"w\") as edges_file:\n",
    "        u_dev=ddf\n",
    "        u=u_dev['reg_id'].values\n",
    "        d=u_dev['mc_id'].values\n",
    "        writer = csv.writer(edges_file, delimiter=\",\")\n",
    "        for source,target in zip(d,u):\n",
    "            writer.writerow([mapping[str(source)], mapping[str(target)]])\n",
    "        d_show=mdf\n",
    "        d=d_show['mc_id'].values\n",
    "        s=d_show['guid'].values\n",
    "        for source,target in zip(d,s):\n",
    "            writer.writerow([mapping[str(source)], mapping[str(target)]])"
   ]
  },
  {
   "cell_type": "markdown",
   "id": "adf1e0ab",
   "metadata": {},
   "source": [
    "<b>CheckMul Module<b>"
   ]
  },
  {
   "cell_type": "code",
   "execution_count": 11,
   "id": "e9b00526",
   "metadata": {
    "ExecuteTime": {
     "end_time": "2022-08-12T07:27:35.138105Z",
     "start_time": "2022-08-12T07:27:35.099664Z"
    }
   },
   "outputs": [],
   "source": [
    "def checkMul(dfs,dev_th,loc_th,no_ip_ott,home):\n",
    "    flag=0\n",
    "    dts=dfs['stream_st'].values\n",
    "    dc={\n",
    "        'mult_dev_same_day_cnt':0,\n",
    "        'max_mult_dev':1,\n",
    "        'mult_loc_same_day_cnt':0,\n",
    "        'max_mult_loc':1\n",
    "    }\n",
    "    try:\n",
    "        dc['no_ott_ip_home']=len(dfs[(dfs['freq_locn']==home) & (dfs['dtype']=='Set Top Box')]['freq_ip'].unique())\n",
    "    except ValueError:\n",
    "        home=Counter(dfs['freq_locn'].values).most_common(1)[0][0]\n",
    "        dc['no_ott_ip_home']=len(dfs[(dfs['freq_locn']==home) & (dfs['dtype']=='Set Top Box')]['freq_ip'].unique())\n",
    "    dts_d=[]\n",
    "    for x in dts:\n",
    "        dts_d.append(x.split()[0])\n",
    "    dfs['day']=dts_d\n",
    "    ls=split(df=dfs,group=['day'])\n",
    "    for dat in ls:\n",
    "        if len(dat['mc_id'].unique())>dev_th:\n",
    "            if len(dat['freq_ip'].unique())>1:\n",
    "                dc['mult_dev_same_day_cnt']=dc['mult_dev_same_day_cnt']+1\n",
    "                flag=1\n",
    "                if len(dat['mc_id'].unique())>dc['max_mult_dev']:\n",
    "                    dc['max_mult_dev']=len(dat['mc_id'].unique())\n",
    "        else:\n",
    "            if len(dat['mc_id'].unique())>dc['max_mult_dev']:\n",
    "                dc['max_mult_dev']=len(dat['mc_id'].unique())\n",
    "        if len(dat['locn'].unique())>loc_th:\n",
    "            if len(dat['mc_id'].unique())>1 and len(dat['freq_ip'].unique())>1:\n",
    "                flag=1\n",
    "                dc['mult_loc_same_day_cnt']=dc['mult_loc_same_day_cnt']+1\n",
    "                if len(dat['locn'].unique())>dc['max_mult_loc']:\n",
    "                    dc['max_mult_loc']=len(dat['locn'].unique())\n",
    "        else:\n",
    "            if len(dat['locn'].unique())>dc['max_mult_loc']:\n",
    "                    dc['max_mult_loc']=len(dat['locn'].unique())\n",
    "    if flag==1:\n",
    "        return True,dc\n",
    "    if dc['no_ott_ip_home']>no_ip_ott:\n",
    "        return True,dc\n",
    "    return False,dc\n"
   ]
  },
  {
   "cell_type": "markdown",
   "id": "fad0cf5e",
   "metadata": {},
   "source": [
    "<b>CheckAlt Module<b>"
   ]
  },
  {
   "cell_type": "code",
   "execution_count": 12,
   "id": "a603b3c2",
   "metadata": {
    "ExecuteTime": {
     "end_time": "2022-08-12T07:27:35.174048Z",
     "start_time": "2022-08-12T07:27:35.145035Z"
    }
   },
   "outputs": [],
   "source": [
    "def checkAlt(dfs,alt_cnt_th):\n",
    "    dc={\n",
    "        'alt_stream_cnt':0,\n",
    "    }\n",
    "    dfs=dfs.sort_values(by=['stream_st'])\n",
    "    city=dfs['locn'].values\n",
    "    devid=dfs['mc_id'].values\n",
    "    dtype=dfs['dtype'].values\n",
    "    dts=dfs['stream_st'].values\n",
    "    freq_ip=dfs['freq_ip'].values\n",
    "    dts_d=[]\n",
    "    for x in dts:\n",
    "        dts_d.append(x.split()[0])\n",
    "    dfs['day']=dts_d\n",
    "    day=dfs.day.values\n",
    "    for x in range(1,len(dfs)-1):\n",
    "        i=0\n",
    "        if city[x]!=city[x-1] and day[x]==day[x-1] and devid[x]!=devid[x-1] and city[x]!=city[x+1] and day[x]==day[x+1] and devid[x]!=devid[x+1] and freq_ip[x]!=freq_ip[x-1] and freq_ip[x]!=freq_ip[x+1]:\n",
    "            i=1\n",
    "        if i==1:\n",
    "            dc['alt_stream_cnt']=dc['alt_stream_cnt']+1\n",
    "    if dc['alt_stream_cnt']>alt_cnt_th:\n",
    "        return True,dc\n",
    "    return False,dc"
   ]
  },
  {
   "cell_type": "markdown",
   "id": "275cd5b3",
   "metadata": {},
   "source": [
    "<b>community check Module<b>"
   ]
  },
  {
   "cell_type": "code",
   "execution_count": 13,
   "id": "5e41f64f",
   "metadata": {
    "ExecuteTime": {
     "end_time": "2022-08-12T07:27:35.221310Z",
     "start_time": "2022-08-12T07:27:35.187332Z"
    }
   },
   "outputs": [],
   "source": [
    "def comm_detect(dfd,model,th,strm_cd_th,home,mapping,Nmap):\n",
    "    try:\n",
    "        homelat=dfd[dfd['freq_locn']==home]['freq_locn_lat'].values[0]\n",
    "        homelon=dfd[dfd['freq_locn']==home]['freq_locn_lon'].values[0]\n",
    "        homeip=dfd[dfd['freq_locn']==home]['freq_ip'].values[0]\n",
    "    except IndexError:\n",
    "        home=Counter(dfd['freq_locn'].values).most_common(1)[0][0]\n",
    "        homelat=dfd[dfd['freq_locn']==home]['freq_locn_lat'].values[0]\n",
    "        homelon=dfd[dfd['freq_locn']==home]['freq_locn_lon'].values[0]\n",
    "        homeip=dfd[dfd['freq_locn']==home]['freq_ip'].values[0]\n",
    "    devid=list(dfd['mc_id'].values)\n",
    "    devloc=dfd['freq_locn'].values\n",
    "    devlat=dfd['freq_locn_lat'].values\n",
    "    devlon=dfd['freq_locn_lon'].values\n",
    "    devip=dfd['freq_ip'].values\n",
    "    cnt_strms=dfd['cnt_strms'].values\n",
    "    bk=[]\n",
    "    for y,loc,lat,lon,ip,cnt in zip(devid,devloc,devlat,devlon,devip,cnt_strms):\n",
    "        f={}\n",
    "        f['id']=y\n",
    "        n_st=cnt\n",
    "        l=[]\n",
    "        for z in devid:\n",
    "            try:\n",
    "                d=1 - spatial.distance.cosine(model[Nmap[(mapping[str(y)])]],model[Nmap[(mapping[str(z)])]])\n",
    "                l.append(d)\n",
    "            except:\n",
    "                continue\n",
    "        try:\n",
    "            f['score']=(sum(l)/len(l))\n",
    "        except:\n",
    "            f['score']=0\n",
    "        f['ct']=n_st\n",
    "        f['devloc']=loc\n",
    "        f['devlat']=lat\n",
    "        f['devlon']=lon\n",
    "        f['devip']=ip\n",
    "        bk.append(f)\n",
    "    mx=0\n",
    "    for y in bk:\n",
    "        if y['devloc']==home and y['ct']>strm_cd_th:\n",
    "            if y['score']>mx:\n",
    "                mx=y['score']\n",
    "    fl=0\n",
    "    for y in bk:\n",
    "        if y['score']<mx and y['devloc']!=home and y['devip']!=homeip and y['ct']>strm_cd_th:\n",
    "            if distance(homelat,homelon,y['devlat'],y['devlon'])>th:\n",
    "                if len(devid)>2:\n",
    "                    return True\n",
    "    return False   \n"
   ]
  },
  {
   "cell_type": "markdown",
   "id": "3457d505",
   "metadata": {},
   "source": [
    "<b>Profile Check Module <b>"
   ]
  },
  {
   "cell_type": "code",
   "execution_count": 14,
   "id": "158b71b2",
   "metadata": {
    "ExecuteTime": {
     "end_time": "2022-08-12T07:27:35.292397Z",
     "start_time": "2022-08-12T07:27:35.224630Z"
    }
   },
   "outputs": [],
   "source": [
    "# Profile Module Func\n",
    "def profile_check(pr_df,prf_cnt_th,sub_ip_cnt_th,kid_ip_cnt_th,ccrnt_strm_cnt_th):\n",
    "    dc={\"p_cnt\":\"\",\n",
    "        \"sub_ip_cnt\":\"\",\n",
    "        \"kid_ip_cnt\":\"\",\n",
    "        \"ccrn_strm_cnt\":\"\"}\n",
    "    flag=0\n",
    "    \n",
    "    #Profile Count Check\n",
    "    p_cnt=pr_df['v126_profile_id'].nunique()\n",
    "    if p_cnt==1:\n",
    "        flag=0\n",
    "    else:\n",
    "        if p_cnt>prf_cnt_th:\n",
    "            dc[\"p_cnt\"]=p_cnt\n",
    "            flag=1\n",
    "        else:\n",
    "            sb_df=pr_df[(pr_df['master_profile_ind']==False)]            \n",
    "            if len(sb_df)==0:#Concurrent Streaming Check\n",
    "                pr_df=pr_df.sort_values(by=['strm_start_event_dt_ht'])\n",
    "                strm_st=pr_df.strm_start_event_dt_ht.values\n",
    "                content=pr_df.video_title.values\n",
    "                day=pr_df.day_dt.values\n",
    "                prf_id=pr_df.v126_profile_id.values\n",
    "                strm_lon=pr_df.int_point_lon.values\n",
    "                strm_lat=pr_df.int_point_lat.values\n",
    "                ccrn_strm_cnt=0\n",
    "                for c in range(len(pr_df)-1):\n",
    "                    if day[c] != day[c+1]:\n",
    "                        continue\n",
    "                    elif pd.to_datetime(strm_st[c]).hour!=pd.to_datetime(strm_st[c+1]).hour:\n",
    "                        continue\n",
    "                    elif content[c]!= content[c+1]: \n",
    "                        continue\n",
    "                    elif prf_id[c]==prf_id[c+1]:  \n",
    "                        continue\n",
    "                    elif distance(strm_lat[c],strm_lon[c],strm_lat[c+1],strm_lon[c+1])<10:\n",
    "                        continue\n",
    "                    else:\n",
    "                        ccrn_strm_cnt+=1\n",
    "                if ccrn_strm_cnt>ccrnt_strm_cnt_th:\n",
    "                        dc[\"ccrn_strm_cnt\"]=ccrn_strm_cnt \n",
    "                        flag=1           \n",
    "            else:#Distant Sub profiles ip count Check\n",
    "                home={}\n",
    "                ms_df=pr_df[pr_df['master_profile_ind']==True]\n",
    "                try:\n",
    "                    home['ms_id']=Counter(ms_df['v126_profile_id'].values).most_common(1)[0][0]\n",
    "                    home['ms_ip']=Counter(ms_df['post_ip_address_desc'].values).most_common(1)[0][0]\n",
    "                    home['lat']=Counter(ms_df['int_point_lat'].values).most_common(1)[0][0]\n",
    "                    home['lon']=Counter(ms_df['int_point_lon'].values).most_common(1)[0][0]\n",
    "                except IndexError:\n",
    "                    home['ms_id']=pr_df['v126_profile_id'].values[0]\n",
    "                    home['ms_ip']=pr_df['post_ip_address_desc'].values[0]\n",
    "                    home['lat']=pr_df['int_point_lat'].values[0]\n",
    "                    home['lon']=pr_df['int_point_lon'].values[0]\n",
    "\n",
    "                pr_df['distance'] = pr_df.apply(lambda x: distance(home['lat'],home['lon'],x['int_point_lat'],x['int_point_lon']),axis=1)\n",
    "                temp_sub=pr_df[pr_df['distance']>50]['post_ip_address_desc'].value_counts().reset_index()\n",
    "                sub_ip_cnt=temp_sub[temp_sub['post_ip_address_desc']>=3]['index'].count()\n",
    "                if sub_ip_cnt>sub_ip_cnt_th:\n",
    "                    dc[\"sub_ip_cnt\"]=sub_ip_cnt\n",
    "                    flag=1 \n",
    "                else:#Distant Kid profiles ip count Check\n",
    "                    kid_df=pr_df[(pr_df['profile_type_cd'] !='ADULT')&(pr_df['post_ip_address_desc']!=home['ms_ip'])&(pr_df['v126_profile_id']!=home['ms_id'])]\n",
    "                    if len(kid_df)==0:\n",
    "                        flag=0\n",
    "                    else:\n",
    "                        temp_kid=kid_df[kid_df['distance']>10]['post_ip_address_desc'].value_counts().reset_index()\n",
    "                        kid_ip_cnt=temp_kid[temp_kid['post_ip_address_desc']>=3]['index'].count()\n",
    "                        if kid_ip_cnt>kid_ip_cnt_th:\n",
    "                            dc[\"kid_ip_cnt\"]=kid_ip_cnt\n",
    "                            flag=1\n",
    "                            \n",
    "                            \n",
    "    if flag==1:\n",
    "        return True,dc\n",
    "    else:\n",
    "        return False,dc\n"
   ]
  },
  {
   "cell_type": "markdown",
   "id": "61c8e3f7",
   "metadata": {},
   "source": [
    "<b>Defining Arguements <b>"
   ]
  },
  {
   "cell_type": "code",
   "execution_count": 15,
   "id": "72e22558",
   "metadata": {
    "ExecuteTime": {
     "end_time": "2022-08-12T07:27:35.319936Z",
     "start_time": "2022-08-12T07:27:35.297040Z"
    }
   },
   "outputs": [],
   "source": [
    "# Adjustment 3 args\n",
    "args = {'start_dt':'2022-03-01','end_dt':'2022-03-01','sample_size':5000,'min_streams':50,\\\n",
    "        'load_neo4j_first':False,'file_name':'20220301_5k','load_neo4j_only_abusers':False,\\\n",
    "        'sql_location':'./data_sql.sql','comm_detect_miles_threshold':50,\\\n",
    "        'comm_detect_stream_cnt_threshold_device':10,'checkmul_device_cnt_threshold':4,\\\n",
    "        'checkmul_locn_cnt_threshold':3,'checkmul_ip_ott_threshold':1,'checkalt_threshold':4,\\\n",
    "        'profile_cnt_threshold':5,'sub_ip_cnt_threshold':8,\\\n",
    "        'kid_ip_cnt_threshold':1,'concurrent_distant_same_content_streaming_cnt_threshold':1,\\\n",
    "       'table_name':'sub_abuse_20220301_5k_sample','bucket_name':'jay_staging'}"
   ]
  },
  {
   "cell_type": "markdown",
   "id": "26ad26bf",
   "metadata": {},
   "source": [
    "<b>Function that runs all the three modules for entire sample<b>"
   ]
  },
  {
   "cell_type": "code",
   "execution_count": 16,
   "id": "960bd12c",
   "metadata": {
    "ExecuteTime": {
     "end_time": "2022-08-12T07:27:35.348697Z",
     "start_time": "2022-08-12T07:27:35.327114Z"
    }
   },
   "outputs": [],
   "source": [
    "def sub_ab_detection(mapping,Nmap,main_df,mdf,ddf,model,th=args['comm_detect_miles_threshold'],\\\n",
    "                     strm_cd_th=args['comm_detect_stream_cnt_threshold_device'],\\\n",
    "                     dev_th=args['checkmul_device_cnt_threshold'],loc_th=args['checkmul_locn_cnt_threshold'],\\\n",
    "                     alt_cnt_th=args['checkalt_threshold'],no_ip_ott=args['checkmul_ip_ott_threshold'],prf_cnt_th=args['profile_cnt_threshold'],\\\n",
    "                     sub_ip_cnt_th=args['sub_ip_cnt_threshold'],kid_ip_cnt_th=args['kid_ip_cnt_threshold'],\\\n",
    "                     ccrnt_strm_cnt_th=args['concurrent_distant_same_content_streaming_cnt_threshold']):\n",
    "    fd=[]\n",
    "    tm=time.time()\n",
    "    rs= split(mdf,group=['reg_id'])\n",
    "    fs= ddf.groupby(['reg_id'])\n",
    "    main_s=main_df.groupby(['v69_registration_id_nbr'])\n",
    "    \n",
    "    fd=Parallel(n_jobs=500,verbose=3,prefer=\"threads\")\\\n",
    "    (delayed(parallel_sub_abuse)(x,fs.get_group(y['reg_id'].values[0]),\\\n",
    "                                 main_s.get_group(int(z['reg_id'].values[0])),mapping,Nmap,model,th, strm_cd_th, dev_th, loc_th, alt_cnt_th, no_ip_ott,prf_cnt_th,sub_ip_cnt_th,kid_ip_cnt_th,ccrnt_strm_cnt_th) for x,y,z in zip(rs,rs,rs))\n",
    "    print(time.time()-tm)                       \n",
    "    return fd"
   ]
  },
  {
   "cell_type": "markdown",
   "id": "7a1fe24b",
   "metadata": {},
   "source": [
    "<b>Parallel detection Function<b>"
   ]
  },
  {
   "cell_type": "code",
   "execution_count": 17,
   "id": "f2f22eb1-1412-4c8e-9a1a-41e40c9e32d6",
   "metadata": {
    "ExecuteTime": {
     "end_time": "2022-08-12T07:27:39.078052Z",
     "start_time": "2022-08-12T07:27:39.063351Z"
    }
   },
   "outputs": [],
   "source": [
    "def parallel_sub_abuse(dfs,dfd,pr_df,mapping,Nmap,model,th, strm_cd_th, dev_th, loc_th, alt_cnt_th, no_ip_ott,prf_cnt_th,sub_ip_cnt_th,kid_ip_cnt_th,ccrnt_strm_cnt_th):\n",
    "\n",
    "    dc={}\n",
    "    dc['ud']=mapping[str(dfs['reg_id'].values[0])]\n",
    "    dc['sub_package']=dfs['sub_package'].values[0]\n",
    "    dc['reg_id']=dfs['reg_id'].values[0]\n",
    "    home=Counter(dfs['locn'].values).most_common(1)[0][0]\n",
    "    fl=0\n",
    "    dc['reason']=\"\"\n",
    "\n",
    "    r,res=checkAlt(dfs,alt_cnt_th)\n",
    "    if r==True:    \n",
    "        dc['reason']='checkAlt'\n",
    "        fl=1\n",
    "        dc=dict(dc, **res)\n",
    "    else:\n",
    "        r,res=checkMul(dfs,dev_th,loc_th,no_ip_ott,home)\n",
    "        if r==True:\n",
    "            dc['reason']='checkMul'\n",
    "            fl=1\n",
    "            dc=dict(dc,**res)\n",
    "        else:\n",
    "            r=comm_detect(dfd,model,th,strm_cd_th,home,mapping,Nmap)\n",
    "            if r==True:\n",
    "                dc['reason']='comm_detect'\n",
    "                fl=1\n",
    "            else:\n",
    "                r,res=profile_check(pr_df,prf_cnt_th,sub_ip_cnt_th,kid_ip_cnt_th,ccrnt_strm_cnt_th)\n",
    "                if r==True:              \n",
    "                    dc['reason']='ProfileCheck'\n",
    "                    fl=1\n",
    "                    dc=dict(dc,**res)\n",
    "    if fl==1:\n",
    "        return dc\n",
    "    else:\n",
    "        return 1"
   ]
  },
  {
   "cell_type": "markdown",
   "id": "079573a0",
   "metadata": {},
   "source": [
    "<b>Running the entire pipeline<b>"
   ]
  },
  {
   "cell_type": "code",
   "execution_count": 21,
   "id": "77312b61",
   "metadata": {
    "ExecuteTime": {
     "end_time": "2022-08-12T07:30:44.675381Z",
     "start_time": "2022-08-12T07:30:44.646740Z"
    }
   },
   "outputs": [],
   "source": [
    "\n",
    "def pipeline(args):\n",
    "    start=timer()\n",
    "    print(\"fetching data\")\n",
    "\n",
    "    main_df = data_fetching(args)\n",
    "\n",
    "    end=timer()\n",
    "    print('Fetching Data Done',timedelta(seconds=end-start))\n",
    "    \n",
    "    start=timer()\n",
    "    print(\"Creating Mapping\")\n",
    "    mapping=create_mapping(main_df) \n",
    "    \n",
    "    end=timer()\n",
    "    print('Mapping Creating Done',timedelta(seconds=end-start))\n",
    "    \n",
    "    \n",
    "    start=timer()\n",
    "    print(\"preprocessing data\")\n",
    "    mdf,ddf=preprocess(main_df)\n",
    "    end=timer()\n",
    "    print('Data Processing Done',timedelta(seconds=end-start))\n",
    "\n",
    "    start=timer()\n",
    "    print(\"creating edgelist\")\n",
    "    create_edgelist(mdf,ddf,args,mapping)\n",
    "    G= cg.read_edgelist(\"./emb/\"+args['file_name']+\".csv\", directed=False, sep=',')\n",
    "    Nmap=pd.Series(G.nodes().index.values,index=G.nodes()) \n",
    "    ids=list(main_df['v69_registration_id_nbr'].unique())\n",
    "    end=timer()\n",
    "    print('Edgelist Done',timedelta(seconds=end-start))\n",
    "    \n",
    "    \n",
    "   \n",
    "    start=timer()\n",
    "    print(\"Try Embeddings\")\n",
    "    model=nodevectors.GGVec(n_components=30,\n",
    "        order=1,\n",
    "        learning_rate=0.1, tol_samples=30,\n",
    "        negative_ratio=0.05,\n",
    "        max_epoch=200).fit_transform(G)\n",
    "\n",
    "    \n",
    "    end=timer()\n",
    "    print('Train Embeddings Done',timedelta(seconds=end-start))\n",
    "    \n",
    "    \n",
    "    start=timer()\n",
    "    print(\"detecting abusers\") \n",
    "    fds=sub_ab_detection(mapping,Nmap,main_df,mdf,ddf,model,th=args['comm_detect_miles_threshold'],\\\n",
    "                     strm_cd_th=args['comm_detect_stream_cnt_threshold_device'],\\\n",
    "                     dev_th=args['checkmul_device_cnt_threshold'],loc_th=args['checkmul_locn_cnt_threshold'],\\\n",
    "                     alt_cnt_th=args['checkalt_threshold'],no_ip_ott=args['checkmul_ip_ott_threshold'],prf_cnt_th=args['profile_cnt_threshold'],\\\n",
    "                     sub_ip_cnt_th=args['sub_ip_cnt_threshold'],kid_ip_cnt_th=args['kid_ip_cnt_threshold'],\\\n",
    "                     ccrnt_strm_cnt_th=args['concurrent_distant_same_content_streaming_cnt_threshold'])\n",
    "    end=timer()\n",
    "    print('Detection Done',timedelta(seconds=end-start))\n",
    "    \n",
    "    start=timer()\n",
    "    print('Saving Results')\n",
    "    res=[x for x in fds if x !=1]\n",
    "    \n",
    "    res=pd.DataFrame(res)\n",
    "    res.to_csv(\"./result/\"+args['file_name']+\"_abusers.csv\")\n",
    "    end=timer()\n",
    "\n",
    "    print(\"results available in \"+\"./result/\"+args['file_name']+\"_abusers.csv\",timedelta(seconds=end-start))\n",
    "    \n",
    "    if args['load_neo4j_only_abusers']==True:\n",
    "        print(\"loading abusers to Neo4j\")\n",
    "        abusers=main_df[main_df['v69_registration_id_nbr'].isin(res.reg_id.values)]\n",
    "        load_to_neo4j(graph=graph,df=abusers)\n",
    "    \n",
    "    return res"
   ]
  },
  {
   "cell_type": "code",
   "execution_count": 19,
   "id": "fb5d5d98",
   "metadata": {
    "ExecuteTime": {
     "end_time": "2022-08-12T07:30:23.385063Z",
     "start_time": "2022-08-12T07:27:46.659442Z"
    }
   },
   "outputs": [
    {
     "name": "stdout",
     "output_type": "stream",
     "text": [
      "fetching data\n",
      "<google.cloud.bigquery.table._EmptyRowIterator object at 0x7fdaef65a3c8>\n",
      "Query Done start load to bucket\n",
      "Downloading sub_abuse/sub_abuse_20220301_5k_sample_000000000000.csv.gz\n",
      "Fetching Data Done 0:00:20.332432\n",
      "Creating Mapping\n",
      "Mapping Creating Done 0:00:00.014877\n",
      "preprocessing data\n",
      "start the function\n",
      "Data Split Done 0:00:01.172435\n",
      "start parallel\n"
     ]
    },
    {
     "name": "stderr",
     "output_type": "stream",
     "text": [
      "[Parallel(n_jobs=500)]: Using backend ThreadingBackend with 500 concurrent workers.\n",
      "[Parallel(n_jobs=500)]: Done 218 tasks      | elapsed:   27.6s\n",
      "[Parallel(n_jobs=500)]: Done 634 tasks      | elapsed:   31.3s\n",
      "[Parallel(n_jobs=500)]: Done 1114 tasks      | elapsed:   38.3s\n",
      "[Parallel(n_jobs=500)]: Done 1658 tasks      | elapsed:   52.8s\n",
      "[Parallel(n_jobs=500)]: Done 2883 out of 2911 | elapsed:  1.0min remaining:    0.6s\n",
      "[Parallel(n_jobs=500)]: Done 2911 out of 2911 | elapsed:  1.0min finished\n"
     ]
    },
    {
     "name": "stdout",
     "output_type": "stream",
     "text": [
      "Parallel Processing 0:01:00.689007\n",
      "start loading\n",
      "Data Load into list Done 0:00:00.010289\n",
      "start saving\n",
      "Saving Data Done 0:00:00.102725\n",
      "start Manipulation\n",
      "Manipulate ddf Done 0:00:00.005912\n",
      "Data Processing Done 0:01:02.049610\n",
      "creating edgelist\n",
      "Edgelist Done 0:00:00.420953\n",
      "Try Embeddings\n",
      "Train Embeddings Done 0:00:05.609643\n",
      "detecting abusers\n"
     ]
    },
    {
     "name": "stderr",
     "output_type": "stream",
     "text": [
      "[Parallel(n_jobs=500)]: Using backend ThreadingBackend with 500 concurrent workers.\n",
      "[Parallel(n_jobs=500)]: Done 152 tasks      | elapsed:   13.1s\n",
      "[Parallel(n_jobs=500)]: Done 568 tasks      | elapsed:   14.2s\n",
      "[Parallel(n_jobs=500)]: Done 1048 tasks      | elapsed:   19.8s\n",
      "[Parallel(n_jobs=500)]: Done 1592 tasks      | elapsed:   25.3s\n"
     ]
    },
    {
     "name": "stdout",
     "output_type": "stream",
     "text": [
      "68.23240685462952\n",
      "Detection Done 0:01:08.267532\n",
      "Saving Results\n",
      "results available in ./results/20220301_5k_abusers.csv 0:00:00.008973\n"
     ]
    },
    {
     "name": "stderr",
     "output_type": "stream",
     "text": [
      "[Parallel(n_jobs=500)]: Done 2883 out of 2911 | elapsed:  1.1min remaining:    0.7s\n",
      "[Parallel(n_jobs=500)]: Done 2911 out of 2911 | elapsed:  1.1min finished\n"
     ]
    }
   ],
   "source": [
    "res=pipeline(args)"
   ]
  },
  {
   "cell_type": "code",
   "execution_count": 20,
   "id": "8af0e1bc",
   "metadata": {
    "ExecuteTime": {
     "end_time": "2022-08-12T07:30:31.899459Z",
     "start_time": "2022-08-12T07:30:31.844111Z"
    }
   },
   "outputs": [
    {
     "data": {
      "text/html": [
       "<div>\n",
       "<style scoped>\n",
       "    .dataframe tbody tr th:only-of-type {\n",
       "        vertical-align: middle;\n",
       "    }\n",
       "\n",
       "    .dataframe tbody tr th {\n",
       "        vertical-align: top;\n",
       "    }\n",
       "\n",
       "    .dataframe thead th {\n",
       "        text-align: right;\n",
       "    }\n",
       "</style>\n",
       "<table border=\"1\" class=\"dataframe\">\n",
       "  <thead>\n",
       "    <tr style=\"text-align: right;\">\n",
       "      <th></th>\n",
       "      <th>ud</th>\n",
       "      <th>sub_package</th>\n",
       "      <th>reg_id</th>\n",
       "      <th>reason</th>\n",
       "      <th>alt_stream_cnt</th>\n",
       "      <th>mult_dev_same_day_cnt</th>\n",
       "      <th>max_mult_dev</th>\n",
       "      <th>mult_loc_same_day_cnt</th>\n",
       "      <th>max_mult_loc</th>\n",
       "      <th>no_ott_ip_home</th>\n",
       "    </tr>\n",
       "  </thead>\n",
       "  <tbody>\n",
       "    <tr>\n",
       "      <th>0</th>\n",
       "      <td>470</td>\n",
       "      <td>LC</td>\n",
       "      <td>47895387</td>\n",
       "      <td>checkAlt</td>\n",
       "      <td>8.0</td>\n",
       "      <td>NaN</td>\n",
       "      <td>NaN</td>\n",
       "      <td>NaN</td>\n",
       "      <td>NaN</td>\n",
       "      <td>NaN</td>\n",
       "    </tr>\n",
       "    <tr>\n",
       "      <th>1</th>\n",
       "      <td>606</td>\n",
       "      <td>LC</td>\n",
       "      <td>48315640</td>\n",
       "      <td>checkAlt</td>\n",
       "      <td>12.0</td>\n",
       "      <td>NaN</td>\n",
       "      <td>NaN</td>\n",
       "      <td>NaN</td>\n",
       "      <td>NaN</td>\n",
       "      <td>NaN</td>\n",
       "    </tr>\n",
       "    <tr>\n",
       "      <th>2</th>\n",
       "      <td>780</td>\n",
       "      <td>LC</td>\n",
       "      <td>48892385</td>\n",
       "      <td>checkAlt</td>\n",
       "      <td>20.0</td>\n",
       "      <td>NaN</td>\n",
       "      <td>NaN</td>\n",
       "      <td>NaN</td>\n",
       "      <td>NaN</td>\n",
       "      <td>NaN</td>\n",
       "    </tr>\n",
       "    <tr>\n",
       "      <th>3</th>\n",
       "      <td>839</td>\n",
       "      <td>LC</td>\n",
       "      <td>49032778</td>\n",
       "      <td>checkAlt</td>\n",
       "      <td>7.0</td>\n",
       "      <td>NaN</td>\n",
       "      <td>NaN</td>\n",
       "      <td>NaN</td>\n",
       "      <td>NaN</td>\n",
       "      <td>NaN</td>\n",
       "    </tr>\n",
       "    <tr>\n",
       "      <th>4</th>\n",
       "      <td>907</td>\n",
       "      <td>LC</td>\n",
       "      <td>49258960</td>\n",
       "      <td>checkMul</td>\n",
       "      <td>NaN</td>\n",
       "      <td>0.0</td>\n",
       "      <td>2.0</td>\n",
       "      <td>1.0</td>\n",
       "      <td>4.0</td>\n",
       "      <td>0.0</td>\n",
       "    </tr>\n",
       "    <tr>\n",
       "      <th>5</th>\n",
       "      <td>1307</td>\n",
       "      <td>LC</td>\n",
       "      <td>49551024</td>\n",
       "      <td>checkAlt</td>\n",
       "      <td>5.0</td>\n",
       "      <td>NaN</td>\n",
       "      <td>NaN</td>\n",
       "      <td>NaN</td>\n",
       "      <td>NaN</td>\n",
       "      <td>NaN</td>\n",
       "    </tr>\n",
       "    <tr>\n",
       "      <th>6</th>\n",
       "      <td>1748</td>\n",
       "      <td>LC</td>\n",
       "      <td>49996661</td>\n",
       "      <td>checkAlt</td>\n",
       "      <td>5.0</td>\n",
       "      <td>NaN</td>\n",
       "      <td>NaN</td>\n",
       "      <td>NaN</td>\n",
       "      <td>NaN</td>\n",
       "      <td>NaN</td>\n",
       "    </tr>\n",
       "    <tr>\n",
       "      <th>7</th>\n",
       "      <td>1876</td>\n",
       "      <td>LC</td>\n",
       "      <td>50200949</td>\n",
       "      <td>checkMul</td>\n",
       "      <td>NaN</td>\n",
       "      <td>1.0</td>\n",
       "      <td>5.0</td>\n",
       "      <td>0.0</td>\n",
       "      <td>2.0</td>\n",
       "      <td>0.0</td>\n",
       "    </tr>\n",
       "    <tr>\n",
       "      <th>8</th>\n",
       "      <td>2087</td>\n",
       "      <td>LC</td>\n",
       "      <td>50670945</td>\n",
       "      <td>checkAlt</td>\n",
       "      <td>5.0</td>\n",
       "      <td>NaN</td>\n",
       "      <td>NaN</td>\n",
       "      <td>NaN</td>\n",
       "      <td>NaN</td>\n",
       "      <td>NaN</td>\n",
       "    </tr>\n",
       "    <tr>\n",
       "      <th>9</th>\n",
       "      <td>2468</td>\n",
       "      <td>LC</td>\n",
       "      <td>52394034</td>\n",
       "      <td>checkAlt</td>\n",
       "      <td>13.0</td>\n",
       "      <td>NaN</td>\n",
       "      <td>NaN</td>\n",
       "      <td>NaN</td>\n",
       "      <td>NaN</td>\n",
       "      <td>NaN</td>\n",
       "    </tr>\n",
       "    <tr>\n",
       "      <th>10</th>\n",
       "      <td>2763</td>\n",
       "      <td>LC</td>\n",
       "      <td>53108676</td>\n",
       "      <td>checkAlt</td>\n",
       "      <td>5.0</td>\n",
       "      <td>NaN</td>\n",
       "      <td>NaN</td>\n",
       "      <td>NaN</td>\n",
       "      <td>NaN</td>\n",
       "      <td>NaN</td>\n",
       "    </tr>\n",
       "    <tr>\n",
       "      <th>11</th>\n",
       "      <td>2765</td>\n",
       "      <td>LC</td>\n",
       "      <td>53109840</td>\n",
       "      <td>checkAlt</td>\n",
       "      <td>8.0</td>\n",
       "      <td>NaN</td>\n",
       "      <td>NaN</td>\n",
       "      <td>NaN</td>\n",
       "      <td>NaN</td>\n",
       "      <td>NaN</td>\n",
       "    </tr>\n",
       "    <tr>\n",
       "      <th>12</th>\n",
       "      <td>2799</td>\n",
       "      <td>LC</td>\n",
       "      <td>53130527</td>\n",
       "      <td>checkAlt</td>\n",
       "      <td>9.0</td>\n",
       "      <td>NaN</td>\n",
       "      <td>NaN</td>\n",
       "      <td>NaN</td>\n",
       "      <td>NaN</td>\n",
       "      <td>NaN</td>\n",
       "    </tr>\n",
       "  </tbody>\n",
       "</table>\n",
       "</div>"
      ],
      "text/plain": [
       "      ud sub_package    reg_id    reason  alt_stream_cnt  \\\n",
       "0    470          LC  47895387  checkAlt             8.0   \n",
       "1    606          LC  48315640  checkAlt            12.0   \n",
       "2    780          LC  48892385  checkAlt            20.0   \n",
       "3    839          LC  49032778  checkAlt             7.0   \n",
       "4    907          LC  49258960  checkMul             NaN   \n",
       "5   1307          LC  49551024  checkAlt             5.0   \n",
       "6   1748          LC  49996661  checkAlt             5.0   \n",
       "7   1876          LC  50200949  checkMul             NaN   \n",
       "8   2087          LC  50670945  checkAlt             5.0   \n",
       "9   2468          LC  52394034  checkAlt            13.0   \n",
       "10  2763          LC  53108676  checkAlt             5.0   \n",
       "11  2765          LC  53109840  checkAlt             8.0   \n",
       "12  2799          LC  53130527  checkAlt             9.0   \n",
       "\n",
       "    mult_dev_same_day_cnt  max_mult_dev  mult_loc_same_day_cnt  max_mult_loc  \\\n",
       "0                     NaN           NaN                    NaN           NaN   \n",
       "1                     NaN           NaN                    NaN           NaN   \n",
       "2                     NaN           NaN                    NaN           NaN   \n",
       "3                     NaN           NaN                    NaN           NaN   \n",
       "4                     0.0           2.0                    1.0           4.0   \n",
       "5                     NaN           NaN                    NaN           NaN   \n",
       "6                     NaN           NaN                    NaN           NaN   \n",
       "7                     1.0           5.0                    0.0           2.0   \n",
       "8                     NaN           NaN                    NaN           NaN   \n",
       "9                     NaN           NaN                    NaN           NaN   \n",
       "10                    NaN           NaN                    NaN           NaN   \n",
       "11                    NaN           NaN                    NaN           NaN   \n",
       "12                    NaN           NaN                    NaN           NaN   \n",
       "\n",
       "    no_ott_ip_home  \n",
       "0              NaN  \n",
       "1              NaN  \n",
       "2              NaN  \n",
       "3              NaN  \n",
       "4              0.0  \n",
       "5              NaN  \n",
       "6              NaN  \n",
       "7              0.0  \n",
       "8              NaN  \n",
       "9              NaN  \n",
       "10             NaN  \n",
       "11             NaN  \n",
       "12             NaN  "
      ]
     },
     "execution_count": 20,
     "metadata": {},
     "output_type": "execute_result"
    }
   ],
   "source": [
    "res"
   ]
  },
  {
   "cell_type": "code",
   "execution_count": null,
   "id": "a865a5d6",
   "metadata": {},
   "outputs": [],
   "source": []
  }
 ],
 "metadata": {
  "environment": {
   "kernel": "python3.6.8",
   "name": "common-cpu.m94",
   "type": "gcloud",
   "uri": "gcr.io/deeplearning-platform-release/base-cpu:m94"
  },
  "kernelspec": {
   "display_name": "Python 3",
   "language": "python",
   "name": "python3"
  },
  "language_info": {
   "codemirror_mode": {
    "name": "ipython",
    "version": 3
   },
   "file_extension": ".py",
   "mimetype": "text/x-python",
   "name": "python",
   "nbconvert_exporter": "python",
   "pygments_lexer": "ipython3",
   "version": "3.6.8"
  },
  "latex_envs": {
   "LaTeX_envs_menu_present": true,
   "autoclose": false,
   "autocomplete": true,
   "bibliofile": "biblio.bib",
   "cite_by": "apalike",
   "current_citInitial": 1,
   "eqLabelWithNumbers": true,
   "eqNumInitial": 1,
   "hotkeys": {
    "equation": "Ctrl-E",
    "itemize": "Ctrl-I"
   },
   "labels_anchors": false,
   "latex_user_defs": false,
   "report_style_numbering": false,
   "user_envs_cfg": false
  },
  "toc": {
   "base_numbering": 1,
   "nav_menu": {},
   "number_sections": true,
   "sideBar": true,
   "skip_h1_title": false,
   "title_cell": "Table of Contents",
   "title_sidebar": "Contents",
   "toc_cell": false,
   "toc_position": {},
   "toc_section_display": true,
   "toc_window_display": false
  }
 },
 "nbformat": 4,
 "nbformat_minor": 5
}
